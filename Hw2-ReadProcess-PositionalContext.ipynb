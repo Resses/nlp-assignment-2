{
 "cells": [
  {
   "cell_type": "code",
   "execution_count": null,
   "metadata": {
    "collapsed": true
   },
   "outputs": [],
   "source": [
    "import string\n",
    "import numpy as np\n",
    "import cPickle as pickle"
   ]
  },
  {
   "cell_type": "markdown",
   "metadata": {},
   "source": [
    "# Import pruned word dictionary"
   ]
  },
  {
   "cell_type": "code",
   "execution_count": null,
   "metadata": {
    "collapsed": true
   },
   "outputs": [],
   "source": [
    "f = open('word-equal-context_subsampled.p', 'rb')\n",
    "info = pickle.load(f)\n",
    "dictionary = info[\"word_pruned_dictionary\"]\n",
    "del info\n",
    "f.close() "
   ]
  },
  {
   "cell_type": "markdown",
   "metadata": {},
   "source": [
    "# Read in and Process Dependencies to create Word-Context Pairs"
   ]
  },
  {
   "cell_type": "code",
   "execution_count": null,
   "metadata": {
    "collapsed": false
   },
   "outputs": [],
   "source": [
    "# We will use the conllu parser to create a tree based on dependencies\n",
    "import conllu\n",
    "from conllu.parser import parse_tree"
   ]
  },
  {
   "cell_type": "code",
   "execution_count": null,
   "metadata": {
    "collapsed": false
   },
   "outputs": [],
   "source": [
    "# We read in the conll file - separating each sentence/entry \n",
    "# All lines/words from the same sentence will be in one string\n",
    "# Returns data: A list where each element is a string containing all lines from the conll file\n",
    "# that belong to that sentence\n",
    "def read_conll(file_name):\n",
    "    with open(file_name) as f:\n",
    "        data = []\n",
    "        lines = []\n",
    "        for line in f.readlines():\n",
    "            if line == '\\n':\n",
    "                data.append(''.join(lines))\n",
    "                lines = []\n",
    "            else:\n",
    "                lines.append(line.translate(None, string.punctuation).lower())\n",
    "    f.close()\n",
    "    return data"
   ]
  },
  {
   "cell_type": "code",
   "execution_count": null,
   "metadata": {
    "collapsed": false
   },
   "outputs": [],
   "source": [
    "# return the word of a tree node if the word is in the word dictionary\n",
    "# other wise, return 'UNK'\n",
    "def get_word(tree_node):\n",
    "    word = tree_node.data['form']\n",
    "    if word in dictionary:\n",
    "        return word\n",
    "    else:\n",
    "        return 'UNK'"
   ]
  },
  {
   "cell_type": "code",
   "execution_count": null,
   "metadata": {
    "collapsed": true
   },
   "outputs": [],
   "source": [
    "# Return the context word with the dependency relationship modifier appended\n",
    "# If word parameter is passed in, then this is an inverse relationship where the parent word is the context word\n",
    "# We keep the modifier from the child and add -1 to demonstrate inverse.\n",
    "# Other wise, we use the word and modifier from the node passed in - the child.\n",
    "def get_word_with_context(child_node, word = None):\n",
    "    modifier = child_node.data['deprel'] \n",
    "    if word != None:\n",
    "        modifier = modifier + \"/-1\"\n",
    "    else:\n",
    "        word = get_word(child_node)\n",
    "    return word + \"/\" + modifier"
   ]
  },
  {
   "cell_type": "code",
   "execution_count": null,
   "metadata": {
    "collapsed": true
   },
   "outputs": [],
   "source": [
    "# Returns a list of all the tree node's children\n",
    "def get_children(tree_node):\n",
    "    return tree_node.children"
   ]
  },
  {
   "cell_type": "code",
   "execution_count": null,
   "metadata": {
    "collapsed": false
   },
   "outputs": [],
   "source": [
    "# This is a recursive algorithm that traverses through the dependency tree and creates the word-context pairs\n",
    "def process_tree(tree, parent = None):\n",
    "    \n",
    "    if parent != None: \n",
    "        word = get_word(tree)\n",
    "        word_as_context = get_word_with_context(tree)\n",
    "        parent_word = get_word(parent)\n",
    "        parent_word_as_context = get_word_with_context(tree, word = get_word(parent))\n",
    "        \n",
    "        # print(parent_word, word_as_context)\n",
    "        add_to_lists_and_dictionary(parent_word, word_as_context)\n",
    "        # print(word, parent_word_as_context)\n",
    "        add_to_lists_and_dictionary(word, parent_word_as_context)\n",
    "        \n",
    "    for child in get_children(tree):\n",
    "        process_tree(child, tree)"
   ]
  },
  {
   "cell_type": "code",
   "execution_count": null,
   "metadata": {
    "collapsed": true
   },
   "outputs": [],
   "source": [
    "# Given a word and context pair, the word is appended to the words list and the associated context is appended to the context list\n",
    "# Instead of adding the actual words, we add their \"index\" which is saved in the dictionary so that we can have \n",
    "# one hot encodings in the neural network later\n",
    "# To do this, we add the context word to the context dictionary if it is not their yet\n",
    "def add_to_lists_and_dictionary(word, context):\n",
    "    words.append(dictionary[word])\n",
    "    if not context in context_dict:\n",
    "        context_dict[context] = len(context_dict)\n",
    "    contexts.append(context_dict[context])"
   ]
  },
  {
   "cell_type": "code",
   "execution_count": null,
   "metadata": {
    "collapsed": true
   },
   "outputs": [],
   "source": [
    "data = read_conll('data/training/training-data.1m.conll')"
   ]
  },
  {
   "cell_type": "code",
   "execution_count": null,
   "metadata": {
    "collapsed": true
   },
   "outputs": [],
   "source": [
    "words = []\n",
    "contexts = []\n",
    "context_dict = {}\n",
    "for i in range(len(data)):\n",
    "    tree = parse_tree(data[i])[0]\n",
    "    process_tree(tree)"
   ]
  },
  {
   "cell_type": "code",
   "execution_count": null,
   "metadata": {
    "collapsed": false
   },
   "outputs": [],
   "source": [
    "print len(contexts)\n",
    "print len(words)"
   ]
  },
  {
   "cell_type": "code",
   "execution_count": null,
   "metadata": {
    "collapsed": false
   },
   "outputs": [],
   "source": [
    "len(context_dict)"
   ]
  },
  {
   "cell_type": "markdown",
   "metadata": {},
   "source": [
    "# Save to Pickle"
   ]
  },
  {
   "cell_type": "code",
   "execution_count": null,
   "metadata": {
    "collapsed": true
   },
   "outputs": [],
   "source": [
    "f = open('dependency_contexts.p', 'wb')   # 'wb' instead 'w' for binary file\n",
    "pickle.dump({\"word_pruned_dictionary\" : dictionary,\n",
    "             \"context_pruned_dictionary\": context_dict,\n",
    "             \"train_data_context\":contexts,\n",
    "             \"train_data_words\":words}, f, -1)       # -1 specifies highest binary protocol\n",
    "f.close() "
   ]
  }
 ],
 "metadata": {
  "anaconda-cloud": {},
  "kernelspec": {
   "display_name": "Python [conda env:py2.7tf]",
   "language": "python",
   "name": "conda-env-py2.7tf-py"
  },
  "language_info": {
   "codemirror_mode": {
    "name": "ipython",
    "version": 2
   },
   "file_extension": ".py",
   "mimetype": "text/x-python",
   "name": "python",
   "nbconvert_exporter": "python",
   "pygments_lexer": "ipython2",
   "version": "2.7.13"
  }
 },
 "nbformat": 4,
 "nbformat_minor": 1
}
